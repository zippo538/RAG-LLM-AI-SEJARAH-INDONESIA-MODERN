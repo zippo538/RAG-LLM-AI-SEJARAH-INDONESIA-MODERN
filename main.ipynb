{
 "cells": [
  {
   "cell_type": "markdown",
   "id": "41440451-c762-427f-9748-07b5bb8811d6",
   "metadata": {},
   "source": [
    "# RAG & LLM Search AI Sejarah Indonesia Modern 1945-1998"
   ]
  },
  {
   "cell_type": "code",
   "execution_count": null,
   "id": "ee3861a6-3b1f-46e8-8c54-049e0b02c8f6",
   "metadata": {},
   "outputs": [
    {
     "data": {
      "text/plain": [
       "True"
      ]
     },
     "execution_count": 139,
     "metadata": {},
     "output_type": "execute_result"
    }
   ],
   "source": [
    "import os\n",
    "from dotenv import load_dotenv\n",
    "import requests\n",
    "from ddgs import DDGS\n",
    "from PyPDF2 import PdfReader\n",
    "from typing import List\n",
    "\n",
    "load_dotenv()"
   ]
  },
  {
   "cell_type": "code",
   "execution_count": null,
   "id": "788e3108-52d0-40cd-9d7a-59b8bc0dcc9d",
   "metadata": {},
   "outputs": [],
   "source": [
    "from langgraph.graph import END\n",
    "from langchain_core.messages import HumanMessage\n",
    "from langchain_groq import ChatGroq\n",
    "from langchain.agents import Tool\n",
    "from sentence_transformers import SentenceTransformer\n",
    "from langchain_core.documents import Document\n",
    "from langchain.text_splitter import RecursiveCharacterTextSplitter\n",
    "from langchain.embeddings import SentenceTransformerEmbeddings\n",
    "from langchain_community.vectorstores import Qdrant\n",
    "from qdrant_client import QdrantClient\n",
    "from sentence_transformers import SentenceTransformer"
   ]
  },
  {
   "cell_type": "markdown",
   "id": "1cd19367-d1fc-4d29-869e-183c039286af",
   "metadata": {},
   "source": [
    "## Wiki Search"
   ]
  },
  {
   "cell_type": "code",
   "execution_count": 42,
   "id": "f9965c1c-bbc1-4768-94b1-d974c18a49a8",
   "metadata": {
    "scrolled": true
   },
   "outputs": [],
   "source": [
    "def wiki_search(judul_halaman : str) : \n",
    "    \"\"\"\n",
    "    Digunakan untuk fetch API dari wikipedia\n",
    "    \"\"\"\n",
    "    API_URL = \"https://id.wikipedia.org/w/api.php\"\n",
    "    params = {\n",
    "        \"action\" : \"query\",\n",
    "        \"format\" : \"json\",\n",
    "        \"titles\" : judul_halaman,\n",
    "        \"prop\" : \"extracts\",\n",
    "        \"explaintext\" : True,\n",
    "        \"formatversion\" : \"2\"\n",
    "    }\n",
    "    \n",
    "    headers = {\n",
    "        \"User-Agent\" : \"AplikasiPengambilSejarah/1.0 (mahindra@email.com)\"\n",
    "    }\n",
    "    \n",
    "    try : \n",
    "        response = requests.get(url=API_URL,params=params,headers=headers)\n",
    "        response.raise_for_status()\n",
    "        data = response.json()\n",
    "    \n",
    "        halaman = data[\"query\"][\"pages\"][0]\n",
    "    \n",
    "        if \"extract\" in halaman : \n",
    "            teks_artikel = halaman[\"extract\"]\n",
    "    \n",
    "            print(f\"Judul : {halaman['title']}\\n\")\n",
    "            print(\"----Mulai Isi Artikel----\")\n",
    "    \n",
    "            print(teks_artikel)\n",
    "    \n",
    "            print('-----Akhir Artikel-------')\n",
    "        else :\n",
    "            print(f\"Halaman dengan judul {judul_halaman} tidak ditemukan\")\n",
    "    except requests.exceptions.RequestException as e:\n",
    "        print(f\"Gagal terhubung ke API Wikipedia {e}\")\n",
    "\n",
    "wiki_tool = Tool(\n",
    "        name=\"Wikipedia Search\",\n",
    "        func=wiki_search,\n",
    "        description=\"Gunakan ini untuk mengambil artikel Wikipedia berdasarkan judul halaman.\"\n",
    "    )"
   ]
  },
  {
   "cell_type": "markdown",
   "id": "acbe2e75-ce6b-4e61-9e0b-f8627df52d6b",
   "metadata": {},
   "source": [
    "Agent Wiki Search ini digunakan untuk mencari sumber-sumber sejarah dari halaman wikipedia. "
   ]
  },
  {
   "cell_type": "markdown",
   "id": "8ca65ce4-e890-4f3d-b912-0b0de9a48eb4",
   "metadata": {},
   "source": [
    "## DDGS"
   ]
  },
  {
   "cell_type": "code",
   "execution_count": 43,
   "id": "7b1939ae-5a07-4163-b6f4-7b6b0e5b38d8",
   "metadata": {},
   "outputs": [],
   "source": [
    "def ddg_search(query: str):\n",
    "    \"\"\"\n",
    "    Digunakan fetch untuk mencari sumber sejarah pada search enginee\n",
    "    \"\"\"\n",
    "    exception_keyworad = \"-https://id.wikipedia.org/wiki/\"\n",
    "    keyword = f\"{query} {exception_keyworad}\"\n",
    "    \n",
    "    try : \n",
    "        results = list(DDGS().text(query, \n",
    "                               region='id-id', \n",
    "                               safesearch='moderate', \n",
    "                               timelimit='y', \n",
    "                               max_results=10))\n",
    "        if results :\n",
    "            first_result_snipped = results[0]['body']\n",
    "            return first_result_snipped\n",
    "        else:\n",
    "            print(\"Tidak ada hasil yang ditemukan.\")\n",
    "    \n",
    "    except Exception as e:\n",
    "        print(f\"Terjadi kesalahan saat pencarian: {e}\")\n",
    "\n",
    "search_tool = Tool(\n",
    "    name=\"WebSearch\",\n",
    "    func=ddg_search,\n",
    "    description=\"Gunakan ini untuk mencari informasi terbaru dari internet.\"    \n",
    ")"
   ]
  },
  {
   "cell_type": "markdown",
   "id": "071c1e86-7376-4263-8592-44f412d5d0bf",
   "metadata": {},
   "source": [
    "DDGS digunakan untuk mencari sumber sejarah dari search enginee"
   ]
  },
  {
   "cell_type": "markdown",
   "id": "6d953064-640f-4ed5-ac41-894658ad4613",
   "metadata": {},
   "source": [
    "## RAG (BOOKS)\n",
    "1. bung_karno_penjambung_lidah_rakjat_indonesia\n",
    "2. economists-with-guns-authoritarian-development-and-us-indonesian-relations-1960-1968\n",
    "3. Jejak Yang Melampaui Zaman\n",
    "4. Ki Hajar Dewantara\n",
    "5. SEJARAH INDONESIA - DICKY ARIS SETIAWAN\n",
    "6. soekarno-mentjapai-indonesia-merdeka\n",
    "7. tan-malaka-menuju-republik-indonesia"
   ]
  },
  {
   "cell_type": "code",
   "execution_count": 7,
   "id": "5718fd28-c560-4013-8711-588195da326f",
   "metadata": {
    "scrolled": true
   },
   "outputs": [],
   "source": [
    "def extract_text_from_pdf(file_path):\n",
    "    valid_documents = []\n",
    "    total_pages = len(reader.pages)\n",
    "    \n",
    "    reader= PdfReader(file_path)\n",
    "    text= \"\"\n",
    "    for page in reader.pages:\n",
    "        text += page.extract_text()\n",
    "    return text\n",
    "\n",
    "def chunk_text(text,chunk_size=500,overlap=50):\n",
    "    chunks= []\n",
    "    start = 0\n",
    "    while start < len(text):\n",
    "        end = start + chunk_size\n",
    "        chunks.append(text[start:end])\n",
    "        start += chunk_size - overlap\n",
    "    return chunks\n",
    "\n",
    "\n",
    "model = SentenceTransformer('sentence-transformers/all-MiniLM-L6-v2')\n"
   ]
  },
  {
   "cell_type": "markdown",
   "id": "14d7d2b8-6dfa-4b42-9361-e8f2a89fa531",
   "metadata": {},
   "source": [
    "Model Sentece yang digunakan ini ringan untuk embedding teks menjadi vector. Selain itu model sentece terbaru dapat berjalan dengan cepat memvetorize teks."
   ]
  },
  {
   "cell_type": "code",
   "execution_count": 8,
   "id": "3f427244-44b4-4835-b48e-97baf36a097f",
   "metadata": {
    "scrolled": true
   },
   "outputs": [],
   "source": [
    "def extract_text_from_pdf(file_path :str) -> List[Document]:\n",
    "    try : \n",
    "        valid_documents = []\n",
    "        \n",
    "        reader= PdfReader(file_path)\n",
    "        total_pages = len(reader.pages)\n",
    "        \n",
    "        for i,page in enumerate(reader.pages):\n",
    "            page_number= i +1\n",
    "            content= None\n",
    "            \n",
    "            try : \n",
    "                content = page.extract_text()\n",
    "            \n",
    "            except Exception as e:\n",
    "                print(f\"Gagal ekstrak teks dari halaman : {page_number}. Error : {e}\")\n",
    "    \n",
    "            if content is None or len(content.strip())==0:\n",
    "                print(f\"Halaman {page_number} diabaikan : konten teks kosong\")\n",
    "                continue\n",
    "                \n",
    "            documents_path, ext = os.path.splitext(file_path)\n",
    "            doc = Document(\n",
    "                page_content=content.strip(),\n",
    "                metadata={\n",
    "                    \"source\" : documents_path,\n",
    "                    \"page\" : i +1\n",
    "                }\n",
    "            )\n",
    "            valid_documents.append(doc)\n",
    "        print(f\"✅ Berhasil memproses {documents_path} dengan {total_pages} halaman. Ditemukan {len(valid_documents)} halaman valid.\")\n",
    "        return valid_documents\n",
    "    except Exception as e:\n",
    "        print(f\"Error saat memproses PDF : {e}\")\n",
    "        return []\n",
    "\n",
    "def chunk_text(documents : List[Document],chunk_size=500,overlap=50) -> List[Document]:\n",
    "    text_splitter = RecursiveCharacterTextSplitter(\n",
    "        chunk_size= chunk_size,\n",
    "        chunk_overlap=overlap,\n",
    "        length_function=len,\n",
    "        is_separator_regex=False,\n",
    "    )\n",
    "    chunks = text_splitter.split_documents(documents)\n",
    "    print(f\"Chunking selesai. Total halaman asli : {len(documents)}\")\n",
    "    return chunks\n",
    "\n",
    "\n"
   ]
  },
  {
   "cell_type": "markdown",
   "id": "df1f50f6-bcb0-4666-b982-1ce3f5e085e7",
   "metadata": {},
   "source": [
    "Database vector yang digunakan adalah Qdrant karena memiliki kecepatan tinggi dan flesibilitas deployment lebih lanjut"
   ]
  },
  {
   "cell_type": "code",
   "execution_count": 9,
   "id": "11dc4d6e-375e-41cb-b2d0-a4cbde96c697",
   "metadata": {
    "scrolled": true
   },
   "outputs": [
    {
     "name": "stdout",
     "output_type": "stream",
     "text": [
      "Halaman 2 diabaikan : konten teks kosong\n",
      "✅ Berhasil memproses ./books/Ki Hajar Dewantara dengan 210 halaman. Ditemukan 209 halaman valid.\n",
      "Chunking selesai. Total halaman asli : 209\n"
     ]
    },
    {
     "name": "stderr",
     "output_type": "stream",
     "text": [
      "/tmp/ipykernel_193005/1816697103.py:8: LangChainDeprecationWarning: The class `HuggingFaceEmbeddings` was deprecated in LangChain 0.2.2 and will be removed in 1.0. An updated version of the class exists in the :class:`~langchain-huggingface package and should be used instead. To use it run `pip install -U :class:`~langchain-huggingface` and import as `from :class:`~langchain_huggingface import HuggingFaceEmbeddings``.\n",
      "  model = SentenceTransformerEmbeddings(model_name=\"all-MiniLM-L6-v2\")\n"
     ]
    },
    {
     "name": "stdout",
     "output_type": "stream",
     "text": [
      "⏳ Memulai indexing ke Qdrant Collection: book_knowledge...\n",
      "✅ Indexing ke Qdrant Selesai!\n",
      "Halaman 1 diabaikan : konten teks kosong\n",
      "Halaman 2 diabaikan : konten teks kosong\n",
      "✅ Berhasil memproses ./books/tan-malaka-menuju-republik-indonesia dengan 58 halaman. Ditemukan 56 halaman valid.\n",
      "Chunking selesai. Total halaman asli : 56\n",
      "⏳ Memulai indexing ke Qdrant Collection: book_knowledge...\n",
      "✅ Indexing ke Qdrant Selesai!\n",
      "✅ Berhasil memproses ./books/SEJARAH INDONESIA - DICKY ARIS SETIAWAN dengan 6 halaman. Ditemukan 6 halaman valid.\n",
      "Chunking selesai. Total halaman asli : 6\n",
      "⏳ Memulai indexing ke Qdrant Collection: book_knowledge...\n",
      "✅ Indexing ke Qdrant Selesai!\n",
      "Halaman 1 diabaikan : konten teks kosong\n",
      "Halaman 2 diabaikan : konten teks kosong\n",
      "✅ Berhasil memproses ./books/soekarno-mentjapai-indonesia-merdeka dengan 83 halaman. Ditemukan 81 halaman valid.\n",
      "Chunking selesai. Total halaman asli : 81\n",
      "⏳ Memulai indexing ke Qdrant Collection: book_knowledge...\n",
      "✅ Indexing ke Qdrant Selesai!\n",
      "Halaman 1 diabaikan : konten teks kosong\n",
      "✅ Berhasil memproses ./books/bung_karno_penjambung_lidah_rakjat_indonesia_ dengan 110 halaman. Ditemukan 109 halaman valid.\n",
      "Chunking selesai. Total halaman asli : 109\n",
      "⏳ Memulai indexing ke Qdrant Collection: book_knowledge...\n",
      "✅ Indexing ke Qdrant Selesai!\n",
      "Halaman 1 diabaikan : konten teks kosong\n",
      "✅ Berhasil memproses ./books/economists-with-guns-authoritarian-development-and-us-indonesian-relations-1960-1968-0804756341-9780804756341_compress dengan 376 halaman. Ditemukan 375 halaman valid.\n",
      "Chunking selesai. Total halaman asli : 375\n",
      "⏳ Memulai indexing ke Qdrant Collection: book_knowledge...\n",
      "✅ Indexing ke Qdrant Selesai!\n",
      "Halaman 1 diabaikan : konten teks kosong\n",
      "Halaman 2 diabaikan : konten teks kosong\n",
      "✅ Berhasil memproses ./books/Jejak Yang Melampaui Zaman dengan 83 halaman. Ditemukan 81 halaman valid.\n",
      "Chunking selesai. Total halaman asli : 81\n",
      "⏳ Memulai indexing ke Qdrant Collection: book_knowledge...\n",
      "✅ Indexing ke Qdrant Selesai!\n"
     ]
    }
   ],
   "source": [
    "def index_to_qdrant(chunks : List[Document], url : str , collection_name : str):\n",
    "    if not chunks:\n",
    "        print(\"❌ Tidak ada chunks yang valid untuk di-index.\")\n",
    "        return\n",
    "\n",
    "    try:\n",
    "        # Inisialisasi model embedding yang akan digunakan\n",
    "        model = SentenceTransformerEmbeddings(model_name=\"all-MiniLM-L6-v2\")\n",
    "\n",
    "        print(f\"⏳ Memulai indexing ke Qdrant Collection: {collection_name}...\")\n",
    "        \n",
    "        # 2. Indexing Otomatis\n",
    "        # Qdrant.from_documents secara otomatis menangani:\n",
    "        # a) Mengubah chunks menjadi embeddings.\n",
    "        # b) Menyimpan embeddings, teks, dan metadata ke Qdrant.\n",
    "        Qdrant.from_documents(\n",
    "            documents=chunks,\n",
    "            embedding=model,\n",
    "            url = url,\n",
    "            collection_name=collection_name,\n",
    "        )\n",
    "        \n",
    "        print(\"✅ Indexing ke Qdrant Selesai!\")\n",
    "\n",
    "    except Exception as e:\n",
    "        print(f\"❌ Gagal Indexing ke Qdrant. Cek koneksi atau API Key Anda. Error: {e}\")\n",
    "\n",
    "\n",
    "qdrant_url = \"http://localhost:6333\"\n",
    "collection_name = 'book_knowledge'\n",
    "\n",
    "folder = \"./books\"\n",
    "\n",
    "for filename in os.listdir(folder) :\n",
    "    if filename.endswith(\".pdf\") : \n",
    "        book_path = os.path.join(folder,filename)\n",
    "        text_book = extract_text_from_pdf(book_path)\n",
    "        \n",
    "        chunk = chunk_text(text_book)\n",
    "        \n",
    "        index_to_qdrant(chunks=chunk,collection_name=collection_name,url=qdrant_url)\n"
   ]
  },
  {
   "cell_type": "code",
   "execution_count": 10,
   "id": "ce076e06-fad8-4a1d-af47-27873b6df75f",
   "metadata": {},
   "outputs": [
    {
     "name": "stderr",
     "output_type": "stream",
     "text": [
      "/tmp/ipykernel_193005/1723501507.py:8: LangChainDeprecationWarning: The class `Qdrant` was deprecated in LangChain 0.0.37 and will be removed in 1.0. An updated version of the class exists in the :class:`~langchain-qdrant package and should be used instead. To use it run `pip install -U :class:`~langchain-qdrant` and import as `from :class:`~langchain_qdrant import Qdrant``.\n",
      "  qdrant = Qdrant(\n"
     ]
    }
   ],
   "source": [
    "def get_qdrant_retriever():\n",
    "       \n",
    "    embedding = SentenceTransformerEmbeddings(model_name=\"all-MiniLM-L6-v2\")\n",
    "    url = \"http://localhost:6333\"\n",
    "    collection_name = \"book_knowledge\"\n",
    "    client = QdrantClient(url=url)\n",
    "    \n",
    "    qdrant = Qdrant(\n",
    "        client=client,\n",
    "        collection_name=collection_name, # <== Penentuan COLLECTION\n",
    "        embeddings=embedding,\n",
    "    )\n",
    "    retriever = qdrant.as_retriever(search_kwargs={\"k\" : 4})\n",
    "    return retriever\n",
    "    \n",
    "qdrant_retriever = get_qdrant_retriever()"
   ]
  },
  {
   "cell_type": "code",
   "execution_count": 34,
   "id": "3857aeca-406e-411a-83bf-aa1663a60b34",
   "metadata": {
    "scrolled": true
   },
   "outputs": [
    {
     "name": "stdout",
     "output_type": "stream",
     "text": [
      "Jumlah dokumen yang diambil: 4\n",
      "Isi Dokumen: Sekilas Tentang Langkah  Perjuangan  Soewardi  209...\n",
      "Metadata: {'source': './books/Ki Hajar Dewantara', 'page': 209, '_id': '56260c4e-9915-4c94-af21-34e7717274fd', '_collection_name': 'book_knowledge'}\n",
      "Isi Dokumen: Sekilas Tentang Langkah  Perjuangan  Soewardi  209...\n",
      "Metadata: {'source': './books/Ki Hajar Dewantara', 'page': 209, '_id': '0b552605-c616-4b1b-b3f4-d7762f023382', '_collection_name': 'book_knowledge'}\n",
      "Isi Dokumen: Sekilas Tentang Langkah  Perjuangan  Soewardi  209...\n",
      "Metadata: {'source': './books/Ki Hajar Dewantara', 'page': 209, '_id': 'f813c4fc-c618-446d-a177-1093bb9d2603', '_collection_name': 'book_knowledge'}\n",
      "Isi Dokumen: kami. Selain itu kami menerima orang bajar-makan, sekalipun rumah kami di Djalan Dewi Sartika 22 ket...\n",
      "Metadata: {'source': './books/bung_karno_penjambung_lidah_rakjat_indonesia_', 'page': 47, '_id': '2ef2a8a3-2528-42eb-95c5-9955dbbef9ac', '_collection_name': 'book_knowledge'}\n"
     ]
    }
   ],
   "source": [
    "#test qdrant retriver\n",
    "\n",
    "promt = \"Mengapa Soekarno digulingkan?\"\n",
    "if qdrant_retriever : \n",
    "    test_query = promt\n",
    "    retrieved_docs = qdrant_retriever.invoke(test_query)\n",
    "    print(f\"Jumlah dokumen yang diambil: {len(retrieved_docs)}\")\n",
    "    for doc in retrieved_docs:\n",
    "        print(f\"Isi Dokumen: {doc.page_content[:100]}...\") # Cetak 100 karakter pertama\n",
    "        print(f\"Metadata: {doc.metadata}\")\n"
   ]
  },
  {
   "cell_type": "code",
   "execution_count": 47,
   "id": "bc50e562-4b46-4eab-8ed7-7544760e6cd9",
   "metadata": {},
   "outputs": [],
   "source": [
    "#tool retrieval\n",
    "\n",
    "@tool\n",
    "def retrieve_from_vector_store(query: str) -> str:\n",
    "    \"\"\"\n",
    "    Gunakan tool ini untuk mengambil konteks dan informasi dari basis data pengetahuan (Qdrant).\n",
    "    Gunakan QUERY yang spesifik dan jelas.\n",
    "    \"\"\"\n",
    "    if qdrant_retriever is None:\n",
    "        return \"Error: Retriever tidak tersedia.\"\n",
    "\n",
    "    print(f\"⚙️ Agent memanggil Qdrant dengan query: '{query}'\")\n",
    "    \n",
    "    # Memanggil retriever untuk mendapatkan dokumen yang relevan\n",
    "    docs: List[Document] = qdrant_retriever.invoke(query)\n",
    "    \n",
    "    # Memformat dokumen menjadi string konteks\n",
    "    context = \"\\n\\n\".join([\n",
    "        f\"Dokumen Halaman {doc.metadata.get('page', 'N/A')}: {doc.page_content}\" \n",
    "        for doc in docs\n",
    "    ])\n",
    "    \n",
    "    if not context:\n",
    "         return \"Tidak ada informasi relevan yang ditemukan dalam basis data pengetahuan.\"\n",
    "\n",
    "    return f\"Konteks yang Ditemukan:\\n---\\n{context}\\n---\"\n",
    "\n",
    "# Tool yang siap digunakan\n",
    "qdrant_tool = retrieve_from_vector_store"
   ]
  },
  {
   "cell_type": "markdown",
   "id": "8cefa4f8-a504-4391-907a-8ea33c69d407",
   "metadata": {},
   "source": [
    "Agent diatas merupakan pengambilan data dari database vector qdrant."
   ]
  },
  {
   "cell_type": "markdown",
   "id": "7d28da6b-c5c8-4265-89ad-6e7cd1ac7a7d",
   "metadata": {},
   "source": [
    "## Agent AI"
   ]
  },
  {
   "cell_type": "code",
   "execution_count": 118,
   "id": "2aa6a5d2-a7a2-454a-868c-44b8e8a2893a",
   "metadata": {},
   "outputs": [],
   "source": [
    "from typing import TypedDict, Any\n",
    "from typing_extensions import Annotated\n",
    "import operator\n",
    "from langgraph.graph import StateGraph, END\n",
    "from langchain_core.messages import AnyMessage, SystemMessage, ToolMessage, AIMessage\n",
    "from langchain_core.runnables import Runnable\n",
    "\n",
    "class AgentState(TypedDict):\n",
    "    messages: Annotated[list[AnyMessage], operator.add]\n",
    "    \n",
    "class Agent:\n",
    "\n",
    "    def __init__(self, model: Runnable, tools: List[Any], system: str = \"\", temperature: float = 0.0):\n",
    "        self.system = system\n",
    "        self.temperature = temperature # <== Menyimpan temperature\n",
    "        \n",
    "        graph = StateGraph(AgentState)\n",
    "        graph.add_node(\"llm\", self.call_openai)\n",
    "        graph.add_node(\"action\", self.take_action)\n",
    "        graph.add_conditional_edges(\n",
    "            \"llm\",\n",
    "            self.exists_action,\n",
    "            {True: \"action\", False: END}\n",
    "        )\n",
    "        graph.add_edge(\"action\", \"llm\")\n",
    "        graph.set_entry_point(\"llm\")\n",
    "        self.graph = graph.compile()\n",
    "        self.tools = {t.name: t for t in tools}\n",
    "        \n",
    "        # VVVVVV MODIFIKASI UTAMA VVVVVV\n",
    "        # 1. Gunakan .bind() untuk mengatur parameter temperature\n",
    "        # 2. Kemudian gunakan .bind_tools()\n",
    "        self.model = model.bind(temperature=self.temperature).bind_tools(tools)\n",
    "\n",
    "    def exists_action(self, state: AgentState):\n",
    "        result = state['messages'][-1]\n",
    "\n",
    "        return len(result.tool_calls) > 0\n",
    "\n",
    "    def call_openai(self, state: AgentState):\n",
    "        messages = state['messages']\n",
    "        if self.system:\n",
    "            messages = [SystemMessage(content=self.system)] + messages\n",
    "            \n",
    "        message = self.model.invoke(messages) \n",
    "        return {'messages': [message]}\n",
    "        \n",
    "    def take_action(self, state: AgentState):\n",
    "        tool_calls = state['messages'][-1].tool_calls\n",
    "        results = []\n",
    "        for t in tool_calls:\n",
    "            print(f\"Calling: {t['name']} with args: {t['args']}\")\n",
    "            if not t['name'] in self.tools:     \n",
    "                print(\"\\n ....bad tool name....\")\n",
    "                result = \"bad tool name, retry\" \n",
    "            else:\n",
    "                result = self.tools[t['name']].invoke(t['args'])\n",
    "            results.append(ToolMessage(tool_call_id=t['id'], name=t['name'], content=str(result)))\n",
    "            \n",
    "        print(\"Back to the model!\")\n",
    "        return {'messages': results}\n",
    "    def run(self, prompt: str) : \n",
    "        \"\"\"\n",
    "        Menjalankan agent tanpa menampilkan seluruh struktur pesan\n",
    "        \"\"\"\n",
    "\n",
    "        messages = [HumanMessage(content=prompt)]\n",
    "        result = self.graph.invoke({\"messages\": messages})\n",
    "\n",
    "        for msg in reversed(result[\"messages\"]):\n",
    "            if isinstance(msg, AIMessage) and msg.content.strip():\n",
    "                return msg.content\n",
    "        return \"(Tidak ada jawaban yang dihasilkan)\"\n",
    "        \n",
    "    def ringkas_teks(self,teks: str, panjang_ringkasan : str = \"pendek\") -> str:\n",
    "        \"\"\"\n",
    "        Meringkas teks panjang menggunakan LLM yang sudah di-bind ke agent.\n",
    "        \n",
    "        Args:\n",
    "            teks (str): Teks yang akan diringkas.\n",
    "            panjang_ringkasan (str): 'pendek', 'sedang', atau 'panjang'.\n",
    "        Returns:\n",
    "            str: Hasil ringkasan teks.\n",
    "        \"\"\"\n",
    "        prompt = f\"\"\"\n",
    "        Buat ringkasan {panjang_ringkasan} dari teks berikut dengan gaya akademik dan informatif.\n",
    "        Fokus pada ide utama dan informasi penting.\n",
    "        ---\n",
    "        {teks}\n",
    "        ---\n",
    "        Ringkasan:\n",
    "        \"\"\"\n",
    "        try:\n",
    "            hasil = self.model.invoke(prompt)\n",
    "            if hasattr(hasil, \"content\"):\n",
    "                return hasil.content.strip()\n",
    "            else:\n",
    "                return str(hasil).strip()\n",
    "        except Exception as e:\n",
    "            return f\"Gagal meringkas teks: {e}\""
   ]
  },
  {
   "cell_type": "code",
   "execution_count": 133,
   "id": "f027419c-2188-48b4-af13-db6c5fe33608",
   "metadata": {},
   "outputs": [],
   "source": [
    "llm = ChatGroq(model=\"meta-llama/llama-4-maverick-17b-128e-instruct\",api_key=api_key)"
   ]
  },
  {
   "cell_type": "markdown",
   "id": "537007e9-3ae3-4364-8782-0b0054574984",
   "metadata": {},
   "source": [
    "Model LLM terbaru dapat memberikan hasil signifikan dalam pengelolaan agent tool seperti hasil sesuai yang diberikan promt dan kontent yang ditampilkan tersusun rapi"
   ]
  },
  {
   "cell_type": "code",
   "execution_count": 134,
   "id": "da951ed3-26cb-408b-9a2f-20894eb17a27",
   "metadata": {
    "scrolled": true
   },
   "outputs": [],
   "source": [
    "template = \"\"\"\n",
    "Kamu adalah sejarawan AI yang pandai merangkum fakta sejarah Indonesia.\n",
    "Gunakan bahasa yang jelas, formal, dan bernuansa akademik.\n",
    "Ringkas teks berikut menjadi narasi sejarah yang padat, kronologis, dan mudah dipahami.\n",
    "Gunakan seluruh agent AI untuk mencari referensi sejarah.\n",
    "\"\"\""
   ]
  },
  {
   "cell_type": "code",
   "execution_count": 136,
   "id": "af5903ca-262d-483b-9eae-f8497fec38e2",
   "metadata": {},
   "outputs": [],
   "source": [
    "tools = [\n",
    "    wiki_tool,\n",
    "    search_tool,\n",
    "    retrieve_from_vector_store,\n",
    "]"
   ]
  },
  {
   "cell_type": "code",
   "execution_count": 137,
   "id": "7f8406d7-64ae-4baa-84f1-0842879feb31",
   "metadata": {},
   "outputs": [
    {
     "data": {
      "image/png": "[encoded data removed]",
      "text/plain": [
       "<IPython.core.display.Image object>"
      ]
     },
     "metadata": {},
     "output_type": "display_data"
    }
   ],
   "source": [
    "from IPython.display import Image, display\n",
    "\n",
    "api_key = os.getenv('GROQ_API_KEY')\n",
    "\n",
    "agent = Agent(model=llm,tools=tools, system=template)\n",
    "\n",
    "display(Image(agent.graph.get_graph().draw_mermaid_png()))\n",
    "\n"
   ]
  },
  {
   "cell_type": "code",
   "execution_count": 138,
   "id": "e8eb5754-5569-4671-a746-4ebcaf66f1ed",
   "metadata": {},
   "outputs": [
    {
     "name": "stdout",
     "output_type": "stream",
     "text": [
      "---------------------Hasil Penelurusan AI-------------------------\n",
      "Calling: retrieve_from_vector_store with args: {'query': 'Soekarno digulingkan'}\n",
      "⚙️ Agent memanggil Qdrant dengan query: 'Soekarno digulingkan'\n",
      "Calling: WebSearch with args: {'__arg1': 'Mengapa Soekarno Digulingkan'}\n",
      "Calling: Wikipedia Search with args: {'__arg1': 'Peristiwa 30 September 1965'}\n",
      "Halaman dengan judul Peristiwa 30 September 1965 tidak ditemukan\n",
      "Back to the model!\n",
      "---------------------Berikut Ringkasan Sejarahnya-------------------------\n",
      "Soekarno, Presiden pertama Indonesia, digulingkan dari jabatannya pada tahun 1966, setelah peristiwa 30 September 1965 (G30S). Peristiwa ini merupakan sebuah gerakan yang dilakukan oleh anggota militer dan beberapa kelompok lainnya yang menuduh Soekarno terlibat dalam upaya kudeta.\n",
      "\n",
      "Berikut adalah ringkasan kronologis peristiwa yang menyebabkan Soekarno digulingkan:\n",
      "\n",
      "1. **Peristiwa 30 September 1965 (G30S):** Gerakan 30 September yang dipimpin oleh Letnan Kolonel Untung Syamsuri dan didukung oleh Partai Komunis Indonesia (PKI) melakukan kudeta terhadap pemerintahan Soekarno. Mereka menculik dan membunuh enam jenderal senior Angkatan Darat.\n",
      "\n",
      "2. **Tindakan Reaksi:** Angkatan Darat, yang dipimpin oleh Mayor Jenderal Suharto, melakukan kontra-aksi terhadap G30S. Mereka berhasil mengalahkan gerakan tersebut dan mengambil alih kontrol pemerintahan.\n",
      "\n",
      "3. **Pengambilalihan Kekuasaan oleh Suharto:** Setelah G30S gagal, Suharto mulai mengambil alih kekuasaan dari Soekarno. Ia diangkat sebagai Panglima Angkatan Darat dan kemudian menjadi orang yang paling berpengaruh di Indonesia.\n",
      "\n",
      "4. **Penyerahan Kekuasaan:** Pada tahun 1966, Soekarno dipaksa untuk menyerahkan kekuasaan kepada Suharto melalui Supersemar (Surat Perintah Sebelas Maret). Dokumen ini memberikan kekuasaan kepada Suharto untuk mengambil tindakan untuk memulihkan keamanan dan stabilitas di Indonesia.\n",
      "\n",
      "5. **Penggantian Soekarno:** Pada tahun 1967, Suharto secara resmi menggantikan Soekarno sebagai Presiden Indonesia. Soekarno ditempatkan dalam tahanan rumah dan kemudian meninggal pada tahun 1970.\n",
      "\n",
      "Dengan demikian, Soekarno digulingkan dari jabatannya sebagai Presiden Indonesia dan digantikan oleh Suharto, menandai awal dari Orde Baru di Indonesia.\n"
     ]
    }
   ],
   "source": [
    "messages = \"Mengapa Soekarno Digulingkan\"\n",
    "\n",
    "print(\"---------------------Hasil Penelurusan AI-------------------------\")\n",
    "\n",
    "result = agent.run(messages)\n",
    "\n",
    "\n",
    "print(\"---------------------Berikut Ringkasan Sejarahnya-------------------------\")\n",
    "ringkasan_teks = agent.ringkas_teks(result,panjang_ringkasan=\"pendek\")\n",
    "print(result)"
   ]
  },
  {
   "cell_type": "code",
   "execution_count": 143,
   "id": "8f7fd3c4-1597-471b-b53d-6b14d2488383",
   "metadata": {
    "scrolled": true
   },
   "outputs": [
    {
     "name": "stdout",
     "output_type": "stream",
     "text": [
      "---------------------Hasil Penelurusan AI-------------------------\n",
      "Calling: WebSearch with args: {'__arg1': 'Soeharto menjadi Presiden Indonesia'}\n",
      "Back to the model!\n",
      "Calling: retrieve_from_vector_store with args: {'query': 'Kelayakan Soeharto menjadi Presiden Indonesia'}\n",
      "⚙️ Agent memanggil Qdrant dengan query: 'Kelayakan Soeharto menjadi Presiden Indonesia'\n",
      "Back to the model!\n",
      "---------------------Berikut Ringkasan Sejarahnya-------------------------\n",
      "Soeharto menjadi Presiden Indonesia setelah menggantikan Sukarno pada tahun 1967. Ia dipilih oleh Majelis Permusyawaratan Rakyat (MPR) sebagai Presiden RI menggantikan Sukarno karena dinilai lebih stabil dan mampu mengatasi krisis ekonomi dan politik yang melanda Indonesia pada saat itu. Soeharto kemudian menjabat sebagai Presiden selama 31 tahun, hingga lengser pada 21 Mei 1998.\n"
     ]
    }
   ],
   "source": [
    "messages = \"Apa yang menjadikan soeharto layak menjadi presiden?\"\n",
    "\n",
    "print(\"---------------------Hasil Penelurusan AI-------------------------\")\n",
    "\n",
    "result = agent.run(messages)\n",
    "\n",
    "\n",
    "print(\"---------------------Berikut Ringkasan Sejarahnya-------------------------\")\n",
    "ringkasan_teks = agent.ringkas_teks(result,panjang_ringkasan=\"pendek\")\n",
    "print(result)"
   ]
  },
  {
   "cell_type": "markdown",
   "id": "ec43565d-0770-4f50-bffa-49d49ec93b7c",
   "metadata": {},
   "source": [
    "**Hasil Evaluasi** \n",
    "<br>\n",
    "<br>\n",
    "Pembuatan Search AI dari RAG dan LLM pada tema **Sejarah Indonesia Modern 1945-1998** masih terdapat kendala error yang belum pasti dan harus dijanlankan kedua kali agar LLM dapat berjalan. Hasil penulusan menggunakan agent tools tidak digunakan semuanya hanya beberapa saja alias tidak stabil. <br>\n",
    "Agent yang digunakan : \n",
    "1. Wikipedia\n",
    "2. Qdrant Database untuk menyimpan vector teks dari sumber PDF\n",
    "3. Search engginee DuckDuckGo\n",
    "\n",
    "<br>\n",
    "\n",
    "\n",
    "\n"
   ]
  },
  {
   "cell_type": "code",
   "execution_count": null,
   "id": "f8033fd1-69f7-4073-88c8-d226fc2f1c77",
   "metadata": {},
   "outputs": [],
   "source": []
  }
 ],
 "metadata": {
  "kernelspec": {
   "display_name": "latihan",
   "language": "python",
   "name": ".venv"
  },
  "language_info": {
   "codemirror_mode": {
    "name": "ipython",
    "version": 3
   },
   "file_extension": ".py",
   "mimetype": "text/x-python",
   "name": "python",
   "nbconvert_exporter": "python",
   "pygments_lexer": "ipython3",
   "version": "3.12.3"
  }
 },
 "nbformat": 4,
 "nbformat_minor": 5
}
